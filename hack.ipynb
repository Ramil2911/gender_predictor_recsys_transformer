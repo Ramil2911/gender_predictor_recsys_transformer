{
 "cells": [
  {
   "metadata": {},
   "cell_type": "markdown",
   "source": [
    "# Предобработка данных\n",
    "\n",
    "Здесь все доступные таблицы загружаются, очищаются от NaNов и удаляются строки с ошибочными данными.\n",
    "Далее объединение основной таблицей с геотаблицей."
   ],
   "id": "7b1ec04d900e8bb9"
  },
  {
   "cell_type": "code",
   "id": "initial_id",
   "metadata": {
    "collapsed": true,
    "ExecuteTime": {
     "end_time": "2024-08-06T20:37:54.719217Z",
     "start_time": "2024-08-06T20:37:54.715717Z"
    }
   },
   "source": [
    "import numpy as np\n",
    "import pandas as pd"
   ],
   "outputs": [],
   "execution_count": 24
  },
  {
   "metadata": {
    "ExecuteTime": {
     "end_time": "2024-08-06T20:37:55.883383Z",
     "start_time": "2024-08-06T20:37:54.805950Z"
    }
   },
   "cell_type": "code",
   "source": [
    "df = pd.read_csv('dataset/train.csv', sep=';')\n",
    "\n",
    "df.dropna(axis=0, how='any', inplace=True)"
   ],
   "id": "e472d5300b3c0d9b",
   "outputs": [],
   "execution_count": 25
  },
  {
   "metadata": {
    "ExecuteTime": {
     "end_time": "2024-08-06T20:37:55.982094Z",
     "start_time": "2024-08-06T20:37:55.885140Z"
    }
   },
   "cell_type": "code",
   "source": [
    "geo_df = pd.read_csv('dataset/geo_info.csv', sep=';')\n",
    "df = df.join(geo_df, on='geo_id', lsuffix=\"bad_\", how='left')"
   ],
   "id": "54f6e6abe8d09620",
   "outputs": [],
   "execution_count": 26
  },
  {
   "metadata": {
    "ExecuteTime": {
     "end_time": "2024-08-06T20:37:55.987176Z",
     "start_time": "2024-08-06T20:37:55.983479Z"
    }
   },
   "cell_type": "code",
   "source": "df.shape",
   "id": "45a6df3e614632b2",
   "outputs": [
    {
     "data": {
      "text/plain": [
       "(749999, 9)"
      ]
     },
     "execution_count": 27,
     "metadata": {},
     "output_type": "execute_result"
    }
   ],
   "execution_count": 27
  },
  {
   "metadata": {},
   "cell_type": "markdown",
   "source": "Объединение основной таблицы с таблицей векторов (подмешиваются в MLP-слой)",
   "id": "a512959a9b4cdedb"
  },
  {
   "metadata": {
    "ExecuteTime": {
     "end_time": "2024-08-06T20:37:56.175625Z",
     "start_time": "2024-08-06T20:37:55.988596Z"
    }
   },
   "cell_type": "code",
   "source": [
    "from sklearn.preprocessing import StandardScaler\n",
    "\n",
    "vectors_df = pd.read_csv('dataset/referer_vectors.csv', sep=';').set_index('referer')\n",
    "scaled_features = StandardScaler().fit_transform(vectors_df.values)\n",
    "vectors_df = pd.DataFrame(scaled_features, index=vectors_df.index, columns=vectors_df.columns)"
   ],
   "id": "9f13db71b21477f9",
   "outputs": [],
   "execution_count": 28
  },
  {
   "metadata": {
    "ExecuteTime": {
     "end_time": "2024-08-06T20:37:56.180695Z",
     "start_time": "2024-08-06T20:37:56.177007Z"
    }
   },
   "cell_type": "code",
   "source": "df.shape",
   "id": "e8b502242a241a64",
   "outputs": [
    {
     "data": {
      "text/plain": [
       "(749999, 9)"
      ]
     },
     "execution_count": 29,
     "metadata": {},
     "output_type": "execute_result"
    }
   ],
   "execution_count": 29
  },
  {
   "metadata": {},
   "cell_type": "markdown",
   "source": "Добавление целевой переменной",
   "id": "91f3b31c39f71a6f"
  },
  {
   "metadata": {
    "ExecuteTime": {
     "end_time": "2024-08-06T20:37:57.081174Z",
     "start_time": "2024-08-06T20:37:56.181865Z"
    }
   },
   "cell_type": "code",
   "source": [
    "labels = pd.read_csv('dataset/train_labels.csv', sep=';')\n",
    "df = df.merge(labels, how='left', on='user_id')\n",
    "df.dropna(axis=0, how='any', subset=['target'], inplace=True)"
   ],
   "id": "9463ad6990e72a6b",
   "outputs": [],
   "execution_count": 30
  },
  {
   "metadata": {
    "ExecuteTime": {
     "end_time": "2024-08-06T20:37:57.086468Z",
     "start_time": "2024-08-06T20:37:57.082854Z"
    }
   },
   "cell_type": "code",
   "source": "df.shape",
   "id": "562a6833644ba50c",
   "outputs": [
    {
     "data": {
      "text/plain": [
       "(593442, 10)"
      ]
     },
     "execution_count": 31,
     "metadata": {},
     "output_type": "execute_result"
    }
   ],
   "execution_count": 31
  },
  {
   "metadata": {},
   "cell_type": "markdown",
   "source": "Очистка и разделение колонок",
   "id": "372358ec9c95cdb3"
  },
  {
   "metadata": {
    "ExecuteTime": {
     "end_time": "2024-08-06T20:37:57.237358Z",
     "start_time": "2024-08-06T20:37:57.087745Z"
    }
   },
   "cell_type": "code",
   "source": [
    "for i, col in enumerate(df.columns):\n",
    "    df[col].fillna(f'NaN_{i}', inplace=True)"
   ],
   "id": "3afaf5d2d0b4cca",
   "outputs": [
    {
     "name": "stderr",
     "output_type": "stream",
     "text": [
      "/tmp/ipykernel_4720/2977290149.py:2: FutureWarning: A value is trying to be set on a copy of a DataFrame or Series through chained assignment using an inplace method.\n",
      "The behavior will change in pandas 3.0. This inplace method will never work because the intermediate object on which we are setting values always behaves as a copy.\n",
      "\n",
      "For example, when doing 'df[col].method(value, inplace=True)', try using 'df.method({col: value}, inplace=True)' or df[col] = df[col].method(value) instead, to perform the operation inplace on the original object.\n",
      "\n",
      "\n",
      "  df[col].fillna(f'NaN_{i}', inplace=True)\n",
      "/tmp/ipykernel_4720/2977290149.py:2: FutureWarning: Setting an item of incompatible dtype is deprecated and will raise an error in a future version of pandas. Value 'NaN_5' has dtype incompatible with float64, please explicitly cast to a compatible dtype first.\n",
      "  df[col].fillna(f'NaN_{i}', inplace=True)\n"
     ]
    }
   ],
   "execution_count": 32
  },
  {
   "metadata": {
    "ExecuteTime": {
     "end_time": "2024-08-06T20:37:57.242706Z",
     "start_time": "2024-08-06T20:37:57.239121Z"
    }
   },
   "cell_type": "code",
   "source": "df.shape",
   "id": "4bf1d87b4c05a199",
   "outputs": [
    {
     "data": {
      "text/plain": [
       "(593442, 10)"
      ]
     },
     "execution_count": 33,
     "metadata": {},
     "output_type": "execute_result"
    }
   ],
   "execution_count": 33
  },
  {
   "metadata": {
    "ExecuteTime": {
     "end_time": "2024-08-06T20:37:57.254100Z",
     "start_time": "2024-08-06T20:37:57.245236Z"
    }
   },
   "cell_type": "code",
   "source": "df.columns",
   "id": "bbc2787bf70c6935",
   "outputs": [
    {
     "data": {
      "text/plain": [
       "Index(['request_ts', 'user_id', 'referer', 'geo_idbad_', 'user_agent',\n",
       "       'geo_id', 'country_id', 'region_id', 'timezone_id', 'target'],\n",
       "      dtype='object')"
      ]
     },
     "execution_count": 34,
     "metadata": {},
     "output_type": "execute_result"
    }
   ],
   "execution_count": 34
  },
  {
   "metadata": {
    "ExecuteTime": {
     "end_time": "2024-08-06T20:38:04.997827Z",
     "start_time": "2024-08-06T20:37:57.255328Z"
    }
   },
   "cell_type": "code",
   "source": [
    "import ast\n",
    "def extract_user_agent_data(df):\n",
    "    new_df = df.copy()\n",
    "\n",
    "    # Преобразуем строку в словарь с помощью ast.literal_eval\n",
    "    new_df['user_agent'] = new_df['user_agent'].apply(lambda x: ast.literal_eval(x) if isinstance(x, str) else x)\n",
    "\n",
    "    # Извлекаем данные из словаря в отдельные столбцы\n",
    "    for key in ['browser', 'browser_version', 'os', 'os_version']:\n",
    "        new_df[key] = new_df['user_agent'].apply(lambda x: x.get(key) if isinstance(x, dict) else None)\n",
    "\n",
    "    return new_df\n",
    "\n",
    "\n",
    "df = extract_user_agent_data(df)"
   ],
   "id": "94f0836fb74f25fb",
   "outputs": [],
   "execution_count": 35
  },
  {
   "metadata": {
    "ExecuteTime": {
     "end_time": "2024-08-06T20:38:07.804726Z",
     "start_time": "2024-08-06T20:38:04.999535Z"
    }
   },
   "cell_type": "code",
   "source": [
    "def split_referer(df):\n",
    "    new_df = df.copy()\n",
    "    \n",
    "    new_df['ind_referer'] = df['referer']\n",
    "\n",
    "    # Удаляем 'https://'\n",
    "    new_df['referer'] = new_df['referer'].str.replace('https://', '', regex=True)\n",
    "\n",
    "    # Разделяем значения по '/' и создаем новые столбцы\n",
    "    split_df = new_df['referer'].str.split('/', expand=True)\n",
    "    split_df = split_df.fillna(value='0')\n",
    "\n",
    "    # Добавляем новые столбцы в исходный DataFrame\n",
    "    new_df = new_df.join(split_df, lsuffix='original')\n",
    "\n",
    "    return new_df\n",
    "\n",
    "\n",
    "df = split_referer(df)\n",
    "df = df.drop(['referer','user_agent', \"geo_idbad_\", \"request_ts\"], axis=1)"
   ],
   "id": "af94afbd92c7341d",
   "outputs": [],
   "execution_count": 36
  },
  {
   "metadata": {
    "ExecuteTime": {
     "end_time": "2024-08-06T20:38:07.855988Z",
     "start_time": "2024-08-06T20:38:07.805920Z"
    }
   },
   "cell_type": "code",
   "source": "df[1].loc[df[1] == \"\"] = '0'",
   "id": "6696ca9cc8d3d72",
   "outputs": [
    {
     "name": "stderr",
     "output_type": "stream",
     "text": [
      "/tmp/ipykernel_4720/2298464413.py:1: FutureWarning: ChainedAssignmentError: behaviour will change in pandas 3.0!\n",
      "You are setting values through chained assignment. Currently this works in certain cases, but when using Copy-on-Write (which will become the default behaviour in pandas 3.0) this will never work to update the original DataFrame or Series, because the intermediate object on which we are setting values will behave as a copy.\n",
      "A typical example is when you are setting values in a column of a DataFrame, like:\n",
      "\n",
      "df[\"col\"][row_indexer] = value\n",
      "\n",
      "Use `df.loc[row_indexer, \"col\"] = values` instead, to perform the assignment in a single step and ensure this keeps updating the original `df`.\n",
      "\n",
      "See the caveats in the documentation: https://pandas.pydata.org/pandas-docs/stable/user_guide/indexing.html#returning-a-view-versus-a-copy\n",
      "\n",
      "  df[1].loc[df[1] == \"\"] = '0'\n",
      "/tmp/ipykernel_4720/2298464413.py:1: SettingWithCopyWarning: \n",
      "A value is trying to be set on a copy of a slice from a DataFrame\n",
      "\n",
      "See the caveats in the documentation: https://pandas.pydata.org/pandas-docs/stable/user_guide/indexing.html#returning-a-view-versus-a-copy\n",
      "  df[1].loc[df[1] == \"\"] = '0'\n"
     ]
    }
   ],
   "execution_count": 37
  },
  {
   "metadata": {
    "ExecuteTime": {
     "end_time": "2024-08-06T20:38:07.869370Z",
     "start_time": "2024-08-06T20:38:07.857353Z"
    }
   },
   "cell_type": "code",
   "source": "df",
   "id": "35ab9bb29229ea60",
   "outputs": [
    {
     "data": {
      "text/plain": [
       "                                 user_id  geo_id country_id region_id  \\\n",
       "0       fb858e8e0a2bec074450eaf94b627fd3  7854.0     c31b4e    30af3a   \n",
       "1       46a5f128fd569c764a92c2eaa788095e   NaN_5      NaN_6     NaN_7   \n",
       "2       5a74e9ac53ffb21a20cce117c0ad77ba  7112.0    10d5df1     NaN_7   \n",
       "3       af735816ca19115431ae3d89518c8c91  5515.0     a144f8     NaN_7   \n",
       "4       364f0ae0a3f29a685c4fb5bae6033b9a  2805.0     c31b4e    54fad0   \n",
       "...                                  ...     ...        ...       ...   \n",
       "593437  3543d64627ead3a519e3199834e2a148  8906.0    1234f1d    15a554   \n",
       "593438  37df5ff1d739f61d442b164db6281e46   613.0     c31b4e    4b9ad7   \n",
       "593439  b28dbf7b0f2bcbdf01c52715573b93b5  6134.0     ac5671    84f51b   \n",
       "593440  dd58499b49a3cbb2b5699ac812c6bbc6   NaN_5      NaN_6     NaN_7   \n",
       "593441  c2666cd0154a5caff2522c799acdab80  4406.0    1234f1d    239fcc   \n",
       "\n",
       "       timezone_id  target         browser browser_version       os  \\\n",
       "0          12119c5     0.0   Chrome Mobile         119.0.0  Android   \n",
       "1            NaN_8     0.0   Chrome Mobile         111.0.0  Android   \n",
       "2           f34c29     0.0  Yandex Browser         20.12.5  Android   \n",
       "3           cff524     0.0   Chrome Mobile         119.0.0  Android   \n",
       "4           e56e80     0.0  Yandex Browser         18.11.1  Android   \n",
       "...            ...     ...             ...             ...      ...   \n",
       "593437      d903ee     0.0   Chrome Mobile         105.0.0  Android   \n",
       "593438      e56e80     0.0   Chrome Mobile       94.0.4606  Android   \n",
       "593439      b017ac     0.0   Chrome Mobile         119.0.0  Android   \n",
       "593440       NaN_8     1.0   Chrome Mobile         119.0.0  Android   \n",
       "593441      d903ee     0.0   Chrome Mobile         111.0.0  Android   \n",
       "\n",
       "       os_version               ind_referer        0         1  \n",
       "0              10          https://9b48ee5/  9b48ee5         0  \n",
       "1              10          https://9b48ee5/  9b48ee5         0  \n",
       "2              11  https://9634fd0/1409e548  9634fd0  1409e548  \n",
       "3              10          https://9b48ee5/  9b48ee5         0  \n",
       "4           4.4.4          https://9b48ee5/  9b48ee5         0  \n",
       "...           ...                       ...      ...       ...  \n",
       "593437         11  https://6e5ed9f/1301418e  6e5ed9f  1301418e  \n",
       "593438         11  https://635e50c/13795cfa  635e50c  13795cfa  \n",
       "593439         10  https://635e50c/13795cfa  635e50c  13795cfa  \n",
       "593440         10          https://6c16abb/  6c16abb         0  \n",
       "593441         10  https://635e50c/13795cfa  635e50c  13795cfa  \n",
       "\n",
       "[593442 rows x 13 columns]"
      ],
      "text/html": [
       "<div>\n",
       "<style scoped>\n",
       "    .dataframe tbody tr th:only-of-type {\n",
       "        vertical-align: middle;\n",
       "    }\n",
       "\n",
       "    .dataframe tbody tr th {\n",
       "        vertical-align: top;\n",
       "    }\n",
       "\n",
       "    .dataframe thead th {\n",
       "        text-align: right;\n",
       "    }\n",
       "</style>\n",
       "<table border=\"1\" class=\"dataframe\">\n",
       "  <thead>\n",
       "    <tr style=\"text-align: right;\">\n",
       "      <th></th>\n",
       "      <th>user_id</th>\n",
       "      <th>geo_id</th>\n",
       "      <th>country_id</th>\n",
       "      <th>region_id</th>\n",
       "      <th>timezone_id</th>\n",
       "      <th>target</th>\n",
       "      <th>browser</th>\n",
       "      <th>browser_version</th>\n",
       "      <th>os</th>\n",
       "      <th>os_version</th>\n",
       "      <th>ind_referer</th>\n",
       "      <th>0</th>\n",
       "      <th>1</th>\n",
       "    </tr>\n",
       "  </thead>\n",
       "  <tbody>\n",
       "    <tr>\n",
       "      <th>0</th>\n",
       "      <td>fb858e8e0a2bec074450eaf94b627fd3</td>\n",
       "      <td>7854.0</td>\n",
       "      <td>c31b4e</td>\n",
       "      <td>30af3a</td>\n",
       "      <td>12119c5</td>\n",
       "      <td>0.0</td>\n",
       "      <td>Chrome Mobile</td>\n",
       "      <td>119.0.0</td>\n",
       "      <td>Android</td>\n",
       "      <td>10</td>\n",
       "      <td>https://9b48ee5/</td>\n",
       "      <td>9b48ee5</td>\n",
       "      <td>0</td>\n",
       "    </tr>\n",
       "    <tr>\n",
       "      <th>1</th>\n",
       "      <td>46a5f128fd569c764a92c2eaa788095e</td>\n",
       "      <td>NaN_5</td>\n",
       "      <td>NaN_6</td>\n",
       "      <td>NaN_7</td>\n",
       "      <td>NaN_8</td>\n",
       "      <td>0.0</td>\n",
       "      <td>Chrome Mobile</td>\n",
       "      <td>111.0.0</td>\n",
       "      <td>Android</td>\n",
       "      <td>10</td>\n",
       "      <td>https://9b48ee5/</td>\n",
       "      <td>9b48ee5</td>\n",
       "      <td>0</td>\n",
       "    </tr>\n",
       "    <tr>\n",
       "      <th>2</th>\n",
       "      <td>5a74e9ac53ffb21a20cce117c0ad77ba</td>\n",
       "      <td>7112.0</td>\n",
       "      <td>10d5df1</td>\n",
       "      <td>NaN_7</td>\n",
       "      <td>f34c29</td>\n",
       "      <td>0.0</td>\n",
       "      <td>Yandex Browser</td>\n",
       "      <td>20.12.5</td>\n",
       "      <td>Android</td>\n",
       "      <td>11</td>\n",
       "      <td>https://9634fd0/1409e548</td>\n",
       "      <td>9634fd0</td>\n",
       "      <td>1409e548</td>\n",
       "    </tr>\n",
       "    <tr>\n",
       "      <th>3</th>\n",
       "      <td>af735816ca19115431ae3d89518c8c91</td>\n",
       "      <td>5515.0</td>\n",
       "      <td>a144f8</td>\n",
       "      <td>NaN_7</td>\n",
       "      <td>cff524</td>\n",
       "      <td>0.0</td>\n",
       "      <td>Chrome Mobile</td>\n",
       "      <td>119.0.0</td>\n",
       "      <td>Android</td>\n",
       "      <td>10</td>\n",
       "      <td>https://9b48ee5/</td>\n",
       "      <td>9b48ee5</td>\n",
       "      <td>0</td>\n",
       "    </tr>\n",
       "    <tr>\n",
       "      <th>4</th>\n",
       "      <td>364f0ae0a3f29a685c4fb5bae6033b9a</td>\n",
       "      <td>2805.0</td>\n",
       "      <td>c31b4e</td>\n",
       "      <td>54fad0</td>\n",
       "      <td>e56e80</td>\n",
       "      <td>0.0</td>\n",
       "      <td>Yandex Browser</td>\n",
       "      <td>18.11.1</td>\n",
       "      <td>Android</td>\n",
       "      <td>4.4.4</td>\n",
       "      <td>https://9b48ee5/</td>\n",
       "      <td>9b48ee5</td>\n",
       "      <td>0</td>\n",
       "    </tr>\n",
       "    <tr>\n",
       "      <th>...</th>\n",
       "      <td>...</td>\n",
       "      <td>...</td>\n",
       "      <td>...</td>\n",
       "      <td>...</td>\n",
       "      <td>...</td>\n",
       "      <td>...</td>\n",
       "      <td>...</td>\n",
       "      <td>...</td>\n",
       "      <td>...</td>\n",
       "      <td>...</td>\n",
       "      <td>...</td>\n",
       "      <td>...</td>\n",
       "      <td>...</td>\n",
       "    </tr>\n",
       "    <tr>\n",
       "      <th>593437</th>\n",
       "      <td>3543d64627ead3a519e3199834e2a148</td>\n",
       "      <td>8906.0</td>\n",
       "      <td>1234f1d</td>\n",
       "      <td>15a554</td>\n",
       "      <td>d903ee</td>\n",
       "      <td>0.0</td>\n",
       "      <td>Chrome Mobile</td>\n",
       "      <td>105.0.0</td>\n",
       "      <td>Android</td>\n",
       "      <td>11</td>\n",
       "      <td>https://6e5ed9f/1301418e</td>\n",
       "      <td>6e5ed9f</td>\n",
       "      <td>1301418e</td>\n",
       "    </tr>\n",
       "    <tr>\n",
       "      <th>593438</th>\n",
       "      <td>37df5ff1d739f61d442b164db6281e46</td>\n",
       "      <td>613.0</td>\n",
       "      <td>c31b4e</td>\n",
       "      <td>4b9ad7</td>\n",
       "      <td>e56e80</td>\n",
       "      <td>0.0</td>\n",
       "      <td>Chrome Mobile</td>\n",
       "      <td>94.0.4606</td>\n",
       "      <td>Android</td>\n",
       "      <td>11</td>\n",
       "      <td>https://635e50c/13795cfa</td>\n",
       "      <td>635e50c</td>\n",
       "      <td>13795cfa</td>\n",
       "    </tr>\n",
       "    <tr>\n",
       "      <th>593439</th>\n",
       "      <td>b28dbf7b0f2bcbdf01c52715573b93b5</td>\n",
       "      <td>6134.0</td>\n",
       "      <td>ac5671</td>\n",
       "      <td>84f51b</td>\n",
       "      <td>b017ac</td>\n",
       "      <td>0.0</td>\n",
       "      <td>Chrome Mobile</td>\n",
       "      <td>119.0.0</td>\n",
       "      <td>Android</td>\n",
       "      <td>10</td>\n",
       "      <td>https://635e50c/13795cfa</td>\n",
       "      <td>635e50c</td>\n",
       "      <td>13795cfa</td>\n",
       "    </tr>\n",
       "    <tr>\n",
       "      <th>593440</th>\n",
       "      <td>dd58499b49a3cbb2b5699ac812c6bbc6</td>\n",
       "      <td>NaN_5</td>\n",
       "      <td>NaN_6</td>\n",
       "      <td>NaN_7</td>\n",
       "      <td>NaN_8</td>\n",
       "      <td>1.0</td>\n",
       "      <td>Chrome Mobile</td>\n",
       "      <td>119.0.0</td>\n",
       "      <td>Android</td>\n",
       "      <td>10</td>\n",
       "      <td>https://6c16abb/</td>\n",
       "      <td>6c16abb</td>\n",
       "      <td>0</td>\n",
       "    </tr>\n",
       "    <tr>\n",
       "      <th>593441</th>\n",
       "      <td>c2666cd0154a5caff2522c799acdab80</td>\n",
       "      <td>4406.0</td>\n",
       "      <td>1234f1d</td>\n",
       "      <td>239fcc</td>\n",
       "      <td>d903ee</td>\n",
       "      <td>0.0</td>\n",
       "      <td>Chrome Mobile</td>\n",
       "      <td>111.0.0</td>\n",
       "      <td>Android</td>\n",
       "      <td>10</td>\n",
       "      <td>https://635e50c/13795cfa</td>\n",
       "      <td>635e50c</td>\n",
       "      <td>13795cfa</td>\n",
       "    </tr>\n",
       "  </tbody>\n",
       "</table>\n",
       "<p>593442 rows × 13 columns</p>\n",
       "</div>"
      ]
     },
     "execution_count": 38,
     "metadata": {},
     "output_type": "execute_result"
    }
   ],
   "execution_count": 38
  },
  {
   "metadata": {
    "ExecuteTime": {
     "end_time": "2024-08-06T20:38:08.320409Z",
     "start_time": "2024-08-06T20:38:07.870431Z"
    }
   },
   "cell_type": "code",
   "source": "df.isna().sum()",
   "id": "7dc6ab247a89bea3",
   "outputs": [
    {
     "data": {
      "text/plain": [
       "user_id            0\n",
       "geo_id             0\n",
       "country_id         0\n",
       "region_id          0\n",
       "timezone_id        0\n",
       "target             0\n",
       "browser            0\n",
       "browser_version    0\n",
       "os                 0\n",
       "os_version         0\n",
       "ind_referer        0\n",
       "0                  0\n",
       "1                  0\n",
       "dtype: int64"
      ]
     },
     "execution_count": 39,
     "metadata": {},
     "output_type": "execute_result"
    }
   ],
   "execution_count": 39
  },
  {
   "metadata": {
    "ExecuteTime": {
     "end_time": "2024-08-06T20:38:08.481427Z",
     "start_time": "2024-08-06T20:38:08.321693Z"
    }
   },
   "cell_type": "code",
   "source": "users = df['user_id'].unique().tolist()",
   "id": "e182c7c779943c6",
   "outputs": [],
   "execution_count": 40
  },
  {
   "metadata": {
    "ExecuteTime": {
     "end_time": "2024-08-06T20:38:08.487053Z",
     "start_time": "2024-08-06T20:38:08.483215Z"
    }
   },
   "cell_type": "code",
   "source": "len(users)",
   "id": "d8af2c3748d2725f",
   "outputs": [
    {
     "data": {
      "text/plain": [
       "499999"
      ]
     },
     "execution_count": 41,
     "metadata": {},
     "output_type": "execute_result"
    }
   ],
   "execution_count": 41
  },
  {
   "metadata": {
    "ExecuteTime": {
     "end_time": "2024-08-06T20:38:08.501352Z",
     "start_time": "2024-08-06T20:38:08.488003Z"
    }
   },
   "cell_type": "code",
   "source": "df.columns",
   "id": "43ef43bb8d757acc",
   "outputs": [
    {
     "data": {
      "text/plain": [
       "Index([        'user_id',          'geo_id',      'country_id',\n",
       "             'region_id',     'timezone_id',          'target',\n",
       "               'browser', 'browser_version',              'os',\n",
       "            'os_version',     'ind_referer',                 0,\n",
       "                       1],\n",
       "      dtype='object')"
      ]
     },
     "execution_count": 42,
     "metadata": {},
     "output_type": "execute_result"
    }
   ],
   "execution_count": 42
  },
  {
   "metadata": {
    "ExecuteTime": {
     "end_time": "2024-08-06T20:38:09.487361Z",
     "start_time": "2024-08-06T20:38:08.502625Z"
    }
   },
   "cell_type": "code",
   "source": [
    "import numpy as np\n",
    "def flatten(xss):\n",
    "    return [x for xs in xss for x in xs]\n",
    "\n",
    "vocab = flatten([df[u].unique() for u in df.drop('user_id', axis=1).columns])"
   ],
   "id": "16bff3deac65a46c",
   "outputs": [],
   "execution_count": 43
  },
  {
   "metadata": {
    "ExecuteTime": {
     "end_time": "2024-08-06T20:38:09.492725Z",
     "start_time": "2024-08-06T20:38:09.489069Z"
    }
   },
   "cell_type": "code",
   "source": "len(vocab)",
   "id": "b3fb9f2e1a6313f7",
   "outputs": [
    {
     "data": {
      "text/plain": [
       "273226"
      ]
     },
     "execution_count": 44,
     "metadata": {},
     "output_type": "execute_result"
    }
   ],
   "execution_count": 44
  },
  {
   "metadata": {
    "ExecuteTime": {
     "end_time": "2024-08-06T20:38:09.532196Z",
     "start_time": "2024-08-06T20:38:09.493854Z"
    }
   },
   "cell_type": "code",
   "source": [
    "for _, row in df[df['user_id'] == users[20]].iterrows():\n",
    "    print(row.tolist())"
   ],
   "id": "e0c06bd654bd080c",
   "outputs": [
    {
     "name": "stdout",
     "output_type": "stream",
     "text": [
      "['c255b0aa42612bdf1b2e8088f40c20d0', 'NaN_5', 'NaN_6', 'NaN_7', 'NaN_8', 0.0, 'Yandex Browser', '23.9.9', 'Android', '10', 'https://9b48ee5/', '9b48ee5', '0']\n"
     ]
    }
   ],
   "execution_count": 45
  },
  {
   "metadata": {},
   "cell_type": "markdown",
   "source": "Далее 2d-таблица превращается в 3d-тензор. Данные по каждому отдельному пользователю объединяются в отдельную таблицу. (n_users, max_history_size, n_features)",
   "id": "f1029d297dfaf821"
  },
  {
   "metadata": {
    "ExecuteTime": {
     "end_time": "2024-08-06T20:38:09.541424Z",
     "start_time": "2024-08-06T20:38:09.533878Z"
    }
   },
   "cell_type": "code",
   "source": [
    "columns_in_request = len(df.columns) - 3  # minus user_id, ind_referer, target\n",
    "max_requests_per_user = 8"
   ],
   "id": "8e55ac8170d44adc",
   "outputs": [],
   "execution_count": 46
  },
  {
   "metadata": {},
   "cell_type": "code",
   "outputs": [],
   "execution_count": null,
   "source": [
    "user_requests = [[['0'] * columns_in_request] * max_requests_per_user] * len(users)\n",
    "referer_requests = [[['0'] * 10] * max_requests_per_user] * len(users)\n",
    "labels = [0] * len(users)"
   ],
   "id": "a6017aee64f8d4e6"
  },
  {
   "metadata": {
    "ExecuteTime": {
     "end_time": "2024-08-06T17:20:25.731990Z",
     "start_time": "2024-08-06T14:54:08.784888Z"
    }
   },
   "cell_type": "code",
   "source": [
    "from pqdm.processes import pqdm\n",
    "\n",
    "def process_user(userid_index):\n",
    "    i, userid = userid_index\n",
    "    j = 0\n",
    "    user_data = [['0'] * columns_in_request] * max_requests_per_user\n",
    "    referer_data = [['0'] * 10] * max_requests_per_user\n",
    "    for _, row in df[df['user_id'] == userid].drop(['user_id', 'target'], axis=1).iterrows():\n",
    "        if j == max_requests_per_user:\n",
    "            break\n",
    "        user_data[j] = row.drop('ind_referer').tolist()\n",
    "        referer_data[j] = vectors_df[vectors_df.index.str.fullmatch(row['ind_referer'])].iloc[0].tolist()\n",
    "        j += 1\n",
    "    return i, user_data, referer_data, df[df['user_id'] == userid]['target'].iloc[0]\n",
    "\n",
    "results = pqdm(enumerate(users), process_user, n_jobs=10)  # Adjust n_jobs based on your CPU cores\n",
    "\n",
    "for i, user_data, referer_data, target in results:\n",
    "    user_requests[i] = user_data\n",
    "    referer_requests[i] = referer_data\n",
    "    labels[i] = target"
   ],
   "id": "3f7d36adf71a3450",
   "outputs": [
    {
     "data": {
      "text/plain": [
       "QUEUEING TASKS | : 0it [00:00, ?it/s]"
      ],
      "application/vnd.jupyter.widget-view+json": {
       "version_major": 2,
       "version_minor": 0,
       "model_id": "1ce4d7a6efc8429f894b5f74a2628159"
      }
     },
     "metadata": {},
     "output_type": "display_data"
    },
    {
     "data": {
      "text/plain": [
       "PROCESSING TASKS | :   0%|          | 0/499999 [00:00<?, ?it/s]"
      ],
      "application/vnd.jupyter.widget-view+json": {
       "version_major": 2,
       "version_minor": 0,
       "model_id": "d5d84758782441e5812bc6cef33302bf"
      }
     },
     "metadata": {},
     "output_type": "display_data"
    },
    {
     "data": {
      "text/plain": [
       "COLLECTING RESULTS | :   0%|          | 0/499999 [00:00<?, ?it/s]"
      ],
      "application/vnd.jupyter.widget-view+json": {
       "version_major": 2,
       "version_minor": 0,
       "model_id": "235403670b8c4ebab72b72b27d6ff9d1"
      }
     },
     "metadata": {},
     "output_type": "display_data"
    }
   ],
   "execution_count": 24
  },
  {
   "metadata": {
    "ExecuteTime": {
     "end_time": "2024-08-06T20:38:55.578458Z",
     "start_time": "2024-08-06T20:38:55.404084Z"
    }
   },
   "cell_type": "code",
   "source": "df.drop(['ind_referer', 'target'], axis=1, inplace=True)",
   "id": "455985adb988e8ff",
   "outputs": [],
   "execution_count": 47
  },
  {
   "metadata": {
    "ExecuteTime": {
     "end_time": "2024-08-06T20:38:55.704033Z",
     "start_time": "2024-08-06T20:38:55.700088Z"
    }
   },
   "cell_type": "code",
   "source": "columns_in_request",
   "id": "59397018fcc50793",
   "outputs": [
    {
     "data": {
      "text/plain": [
       "10"
      ]
     },
     "execution_count": 48,
     "metadata": {},
     "output_type": "execute_result"
    }
   ],
   "execution_count": 48
  },
  {
   "metadata": {
    "ExecuteTime": {
     "end_time": "2024-08-06T20:38:56.138027Z",
     "start_time": "2024-08-06T20:38:56.124363Z"
    }
   },
   "cell_type": "code",
   "source": [
    "requests = np.array(user_requests)\n",
    "referers = np.array(referer_requests)\n",
    "labels = np.array(labels)"
   ],
   "id": "bec6fa12e2defc95",
   "outputs": [
    {
     "ename": "NameError",
     "evalue": "name 'user_requests' is not defined",
     "output_type": "error",
     "traceback": [
      "\u001B[0;31m---------------------------------------------------------------------------\u001B[0m",
      "\u001B[0;31mNameError\u001B[0m                                 Traceback (most recent call last)",
      "Cell \u001B[0;32mIn[49], line 1\u001B[0m\n\u001B[0;32m----> 1\u001B[0m requests \u001B[38;5;241m=\u001B[39m np\u001B[38;5;241m.\u001B[39marray(\u001B[43muser_requests\u001B[49m)\n\u001B[1;32m      2\u001B[0m referers \u001B[38;5;241m=\u001B[39m np\u001B[38;5;241m.\u001B[39marray(referer_requests)\n\u001B[1;32m      3\u001B[0m labels \u001B[38;5;241m=\u001B[39m np\u001B[38;5;241m.\u001B[39marray(labels)\n",
      "\u001B[0;31mNameError\u001B[0m: name 'user_requests' is not defined"
     ]
    }
   ],
   "execution_count": 49
  },
  {
   "metadata": {
    "ExecuteTime": {
     "end_time": "2024-08-06T20:38:56.844748Z",
     "start_time": "2024-08-06T20:38:56.830242Z"
    }
   },
   "cell_type": "code",
   "source": [
    "print(requests.shape)\n",
    "print(referers.shape)\n",
    "print(labels.shape)"
   ],
   "id": "d8a1f7440a7310e5",
   "outputs": [
    {
     "ename": "NameError",
     "evalue": "name 'requests' is not defined",
     "output_type": "error",
     "traceback": [
      "\u001B[0;31m---------------------------------------------------------------------------\u001B[0m",
      "\u001B[0;31mNameError\u001B[0m                                 Traceback (most recent call last)",
      "Cell \u001B[0;32mIn[50], line 1\u001B[0m\n\u001B[0;32m----> 1\u001B[0m \u001B[38;5;28mprint\u001B[39m(\u001B[43mrequests\u001B[49m\u001B[38;5;241m.\u001B[39mshape)\n\u001B[1;32m      2\u001B[0m \u001B[38;5;28mprint\u001B[39m(referers\u001B[38;5;241m.\u001B[39mshape)\n\u001B[1;32m      3\u001B[0m \u001B[38;5;28mprint\u001B[39m(labels\u001B[38;5;241m.\u001B[39mshape)\n",
      "\u001B[0;31mNameError\u001B[0m: name 'requests' is not defined"
     ]
    }
   ],
   "execution_count": 50
  },
  {
   "metadata": {},
   "cell_type": "markdown",
   "source": "# Сохранение и загрузка данных",
   "id": "5587896a9beb51e"
  },
  {
   "metadata": {
    "ExecuteTime": {
     "end_time": "2024-08-06T19:30:39.908207Z",
     "start_time": "2024-08-06T19:29:44.064599Z"
    }
   },
   "cell_type": "code",
   "source": [
    "np.save('sample_full.npy', requests, allow_pickle=True)\n",
    "np.save('sample_full_referers.npy', referers, allow_pickle=True)\n",
    "np.save('sample_full_labels.npy', labels, allow_pickle=True)"
   ],
   "id": "ba7009b4bfef44bd",
   "outputs": [],
   "execution_count": 83
  },
  {
   "metadata": {
    "ExecuteTime": {
     "end_time": "2024-08-06T20:39:25.180868Z",
     "start_time": "2024-08-06T20:39:02.916560Z"
    }
   },
   "cell_type": "code",
   "source": [
    "requests = np.load('sample_full.npy', allow_pickle=True)\n",
    "referers = np.load('sample_full_referers.npy', allow_pickle=True)\n",
    "labels = np.load('sample_full_labels.npy', allow_pickle=True)\n",
    "\n",
    "requests = requests[:,:4,:]\n",
    "referers = referers[:,:4,:]"
   ],
   "id": "3d09c4fc3c089911",
   "outputs": [],
   "execution_count": 51
  },
  {
   "metadata": {
    "ExecuteTime": {
     "end_time": "2024-08-06T20:39:25.367043Z",
     "start_time": "2024-08-06T20:39:25.268210Z"
    }
   },
   "cell_type": "code",
   "source": "requests.shape",
   "id": "8d5b3a3b5b5213b4",
   "outputs": [
    {
     "data": {
      "text/plain": [
       "(499999, 4, 10)"
      ]
     },
     "execution_count": 52,
     "metadata": {},
     "output_type": "execute_result"
    }
   ],
   "execution_count": 52
  },
  {
   "metadata": {
    "ExecuteTime": {
     "end_time": "2024-08-06T17:52:29.368134Z",
     "start_time": "2024-08-06T17:52:29.320066Z"
    }
   },
   "cell_type": "code",
   "source": [
    "del user_requests\n",
    "del referer_requests"
   ],
   "id": "ea1b9b6cfd5f68ef",
   "outputs": [
    {
     "ename": "NameError",
     "evalue": "name 'user_requests' is not defined",
     "output_type": "error",
     "traceback": [
      "\u001B[0;31m---------------------------------------------------------------------------\u001B[0m",
      "\u001B[0;31mNameError\u001B[0m                                 Traceback (most recent call last)",
      "Cell \u001B[0;32mIn[45], line 1\u001B[0m\n\u001B[0;32m----> 1\u001B[0m \u001B[38;5;28;01mdel\u001B[39;00m \u001B[43muser_requests\u001B[49m\n\u001B[1;32m      2\u001B[0m \u001B[38;5;28;01mdel\u001B[39;00m referer_requests\n",
      "\u001B[0;31mNameError\u001B[0m: name 'user_requests' is not defined"
     ]
    }
   ],
   "execution_count": 45
  },
  {
   "metadata": {},
   "cell_type": "markdown",
   "source": [
    "### Искусственное увеличение датасета. \n",
    "Изначально таблица каждого пользователя хранит данные последовательно, количество данных увеличивается путем перемешивания истории браузера и её копирования"
   ],
   "id": "9b14ea8c1931c764"
  },
  {
   "metadata": {
    "ExecuteTime": {
     "end_time": "2024-08-06T20:39:25.402980Z",
     "start_time": "2024-08-06T20:39:25.371282Z"
    }
   },
   "cell_type": "code",
   "source": "rng = np.random.default_rng(seed=41)",
   "id": "e49f3a6edf51cead",
   "outputs": [],
   "execution_count": 53
  },
  {
   "metadata": {
    "ExecuteTime": {
     "end_time": "2024-08-06T20:41:50.504529Z",
     "start_time": "2024-08-06T20:39:25.410526Z"
    }
   },
   "cell_type": "code",
   "source": [
    "shuffled_requests = rng.permutation(requests, axis=1)\n",
    "requests = np.concatenate((shuffled_requests, requests), axis=0)\n",
    "del shuffled_requests"
   ],
   "id": "650d6785a9626a1",
   "outputs": [],
   "execution_count": 54
  },
  {
   "metadata": {
    "ExecuteTime": {
     "end_time": "2024-08-06T20:44:11.020660Z",
     "start_time": "2024-08-06T20:41:50.555735Z"
    }
   },
   "cell_type": "code",
   "source": [
    "shuffled_referers = rng.permutation(referers, axis=1)\n",
    "referers = np.concatenate((shuffled_referers, referers), axis=0)\n",
    "del shuffled_referers"
   ],
   "id": "129c221010ef703e",
   "outputs": [],
   "execution_count": 55
  },
  {
   "metadata": {
    "ExecuteTime": {
     "end_time": "2024-08-06T20:44:11.187647Z",
     "start_time": "2024-08-06T20:44:11.097743Z"
    }
   },
   "cell_type": "code",
   "source": "rng = np.random.default_rng(seed=42)",
   "id": "784d8f1597a5fd76",
   "outputs": [],
   "execution_count": 56
  },
  {
   "metadata": {
    "ExecuteTime": {
     "end_time": "2024-08-06T20:46:17.617278Z",
     "start_time": "2024-08-06T20:44:11.193404Z"
    }
   },
   "cell_type": "code",
   "source": [
    "shuffled_requests = rng.permutation(requests, axis=1)\n",
    "requests = np.concatenate((shuffled_requests, requests), axis=0)\n",
    "del shuffled_requests"
   ],
   "id": "ee34b4ed078f9",
   "outputs": [],
   "execution_count": 57
  },
  {
   "metadata": {
    "ExecuteTime": {
     "end_time": "2024-08-06T20:48:31.352692Z",
     "start_time": "2024-08-06T20:46:17.671546Z"
    }
   },
   "cell_type": "code",
   "source": [
    "shuffled_referers = rng.permutation(referers, axis=1)\n",
    "referers = np.concatenate((shuffled_referers, referers), axis=0)\n",
    "del shuffled_referers"
   ],
   "id": "165875a8f32db1a7",
   "outputs": [],
   "execution_count": 58
  },
  {
   "metadata": {
    "ExecuteTime": {
     "end_time": "2024-08-06T21:02:23.502700Z",
     "start_time": "2024-08-06T21:02:23.390904Z"
    }
   },
   "cell_type": "code",
   "source": "labels = np.concatenate((labels, labels, labels, labels), axis=0)",
   "id": "811346882da53d0e",
   "outputs": [],
   "execution_count": 86
  },
  {
   "metadata": {},
   "cell_type": "markdown",
   "source": [
    "# Объявление модели.\n",
    "Модель - однослойный трансформер с одной головой, параллельно расположен MLP-блок, обрабатывающий данные векторов. Выводы трансформера и MLP конкатенируются и передаются в другой MLP-блок"
   ],
   "id": "36fbf8ea3e76cfe8"
  },
  {
   "metadata": {
    "ExecuteTime": {
     "end_time": "2024-08-07T00:09:16.126379Z",
     "start_time": "2024-08-07T00:09:16.117382Z"
    }
   },
   "cell_type": "code",
   "source": [
    "import torch\n",
    "import torch.nn as nn\n",
    "import torch.optim as optim\n",
    "from torch.nn import TransformerEncoder, TransformerEncoderLayer, LayerNorm\n",
    "from torch.utils.data import DataLoader, Dataset\n",
    "from sklearn.model_selection import train_test_split\n",
    "from sklearn.metrics import accuracy_score, roc_auc_score\n",
    "\n",
    "class CustomTokenizer:\n",
    "    def __init__(self, vocab):\n",
    "        self.vocab = vocab\n",
    "        self.token_to_id = {token: idx for idx, token in enumerate(vocab)}\n",
    "        self.pad_token = '<PAD>'\n",
    "        self.pad_token_id = len(vocab)\n",
    "        \n",
    "    def encode(self, features):\n",
    "        return np.array([[self.token_to_id.get(feature, self.pad_token_id) for feature in feature_set] for feature_set in features])\n",
    "\n",
    "class TransformerBinaryClassifier(nn.Module):\n",
    "    def __init__(self, n_features, vocab_size, d_model=24, nhead=1, num_layers=1, dim_feedforward=128, vectors_len = 40):\n",
    "        super(TransformerBinaryClassifier, self).__init__()\n",
    "        self.embedding = nn.Embedding(vocab_size + 1, d_model)  # +1 for padding token\n",
    "        \n",
    "        encoder_layers = TransformerEncoderLayer(d_model, nhead, dim_feedforward, dropout=0.4, activation='gelu')\n",
    "        self.transformer_encoder = TransformerEncoder(encoder_layers, num_layers, norm=LayerNorm(d_model))\n",
    "        \n",
    "        self.mlp = nn.Sequential(nn.Linear(vectors_len, dim_feedforward),\n",
    "                                nn.ReLU(),\n",
    "                                nn.BatchNorm1d(dim_feedforward),\n",
    "                                nn.Dropout(0.3),\n",
    "                                nn.Linear(dim_feedforward, vectors_len))\n",
    "        \n",
    "        self.fc = nn.Sequential(nn.Linear(d_model * n_features + vectors_len, dim_feedforward),\n",
    "                                nn.ReLU(),\n",
    "                                nn.BatchNorm1d(dim_feedforward),\n",
    "                                nn.Dropout(0.3),\n",
    "                                nn.Linear(dim_feedforward, 1))\n",
    "        self.sigmoid = nn.Sigmoid()\n",
    "\n",
    "    def forward(self, features, vectors):\n",
    "        batch_size = len(features)\n",
    "        \n",
    "        # Convert features to tensor\n",
    "        tokenized_features = torch.tensor(features)\n",
    "        \n",
    "        # Embedding\n",
    "        embeddings = self.embedding(tokenized_features)\n",
    "        \n",
    "        # Reshape for transformer input\n",
    "        embeddings = embeddings.permute(1, 0, 2).contiguous()\n",
    "        \n",
    "        # Transformer encoder\n",
    "        transformer_out = self.transformer_encoder(embeddings)\n",
    "        \n",
    "        # Reshape back to (batch_size, d_model * n_features)\n",
    "        transformer_out = transformer_out.permute(1, 0, 2).contiguous()\n",
    "        transformer_out = transformer_out.view(batch_size, -1)\n",
    "        \n",
    "        vec = self.mlp(vectors)\n",
    "        \n",
    "        # Fully connected layer\n",
    "        logits = self.fc(torch.cat((transformer_out, vec), dim=1))\n",
    "        output = self.sigmoid(logits)\n",
    "        \n",
    "        return output"
   ],
   "id": "a193ed69461ad84",
   "outputs": [],
   "execution_count": 99
  },
  {
   "metadata": {
    "ExecuteTime": {
     "end_time": "2024-08-06T20:48:41.821424Z",
     "start_time": "2024-08-06T20:48:41.810256Z"
    }
   },
   "cell_type": "code",
   "source": [
    "from tqdm import tqdm\n",
    "\n",
    "def train_model(model, train_loader, val_loader, criterion, optimizer, scheduler, num_epochs=10):\n",
    "    for epoch in range(num_epochs):\n",
    "        model.train()\n",
    "        running_loss = 0.0\n",
    "        \n",
    "        for features, refs, labels in tqdm(train_loader, unit=\"batch\", total=len(train_loader)):\n",
    "            features, refs, labels = features.to(device), refs.to(device), labels.to(device)\n",
    "            \n",
    "            optimizer.zero_grad()\n",
    "            outputs = model(features, refs)\n",
    "            loss = criterion(outputs, labels.float().unsqueeze(1))\n",
    "            loss.backward()\n",
    "            optimizer.step()\n",
    "        \n",
    "            running_loss += loss.item() * features.size(0)\n",
    "        \n",
    "        scheduler.step()\n",
    "        \n",
    "        epoch_loss = running_loss / len(train_loader.dataset)\n",
    "        \n",
    "        model.eval()\n",
    "        val_running_corrects = 0\n",
    "        all_labels = []\n",
    "        all_outputs = []\n",
    "        \n",
    "        with torch.no_grad():\n",
    "            for features, refs, labels in tqdm(val_loader, unit=\"batch\", total=len(val_loader)):\n",
    "                features, refs, labels = features.to(device), refs.to(device), labels.to(device)\n",
    "                outputs = model(features, refs)\n",
    "                preds = (outputs > 0.5).int()\n",
    "                val_running_corrects += (preds == labels.unsqueeze(1)).sum().item()\n",
    "                all_labels.extend(labels.cpu().numpy())\n",
    "                all_outputs.extend(outputs.cpu().numpy())\n",
    "        \n",
    "        val_acc = val_running_corrects / len(val_loader.dataset)\n",
    "        val_roc_auc = roc_auc_score(all_labels, all_outputs)\n",
    "        \n",
    "        print(f'Epoch {epoch}/{num_epochs - 1}, Loss: {epoch_loss:.4f}, Val Acc: {val_acc:.4f}, LR: {scheduler.get_lr()}, Val ROC AUC: {val_roc_auc:.4f}')"
   ],
   "id": "80f154b750f9529f",
   "outputs": [],
   "execution_count": 61
  },
  {
   "metadata": {},
   "cell_type": "markdown",
   "source": "# Создание векторов из таблиц и токенизация",
   "id": "9635f1f8ae2f8ba0"
  },
  {
   "metadata": {
    "ExecuteTime": {
     "end_time": "2024-08-06T20:48:41.865564Z",
     "start_time": "2024-08-06T20:48:41.855710Z"
    }
   },
   "cell_type": "code",
   "source": [
    "requests_flat = requests.reshape((requests.shape[0], requests.shape[1] * requests.shape[2]))\n",
    "requests_flat.shape"
   ],
   "id": "e7d4f6e818c55d33",
   "outputs": [
    {
     "data": {
      "text/plain": [
       "(1999996, 40)"
      ]
     },
     "execution_count": 63,
     "metadata": {},
     "output_type": "execute_result"
    }
   ],
   "execution_count": 63
  },
  {
   "metadata": {
    "ExecuteTime": {
     "end_time": "2024-08-06T20:48:41.876971Z",
     "start_time": "2024-08-06T20:48:41.867215Z"
    }
   },
   "cell_type": "code",
   "source": [
    "referers_flat = referers.reshape((referers.shape[0], referers.shape[1] * referers.shape[2]))\n",
    "referers_flat.shape"
   ],
   "id": "1ab1421c3ce051c2",
   "outputs": [
    {
     "data": {
      "text/plain": [
       "(1999996, 40)"
      ]
     },
     "execution_count": 64,
     "metadata": {},
     "output_type": "execute_result"
    }
   ],
   "execution_count": 64
  },
  {
   "metadata": {
    "ExecuteTime": {
     "end_time": "2024-08-06T20:48:42.758624Z",
     "start_time": "2024-08-06T20:48:41.878280Z"
    }
   },
   "cell_type": "code",
   "source": [
    "# Initialize tokenizer\n",
    "tokenizer = CustomTokenizer(vocab)"
   ],
   "id": "f86d3d4196cf888c",
   "outputs": [],
   "execution_count": 65
  },
  {
   "metadata": {
    "ExecuteTime": {
     "end_time": "2024-08-06T20:51:01.493760Z",
     "start_time": "2024-08-06T20:48:42.760720Z"
    }
   },
   "cell_type": "code",
   "source": "tokens = tokenizer.encode(requests_flat)",
   "id": "255fbaf7b2eb7211",
   "outputs": [],
   "execution_count": 66
  },
  {
   "metadata": {},
   "cell_type": "code",
   "source": "tokens.shape",
   "id": "1a017ef12722729b",
   "outputs": [
    {
     "data": {
      "text/plain": [
       "(1999996, 40)"
      ]
     },
     "execution_count": 67,
     "metadata": {},
     "output_type": "execute_result"
    }
   ],
   "execution_count": 67
  },
  {
   "metadata": {
    "ExecuteTime": {
     "end_time": "2024-08-06T21:04:15.070748Z",
     "start_time": "2024-08-06T21:02:38.271315Z"
    }
   },
   "cell_type": "code",
   "source": [
    "from torch.utils.data import TensorDataset\n",
    "\n",
    "features = torch.tensor(tokens)\n",
    "refs = torch.tensor(referers_flat.astype('float32'))\n",
    "labels = torch.tensor(labels)"
   ],
   "id": "b1eb2f2939334023",
   "outputs": [],
   "execution_count": 87
  },
  {
   "metadata": {
    "ExecuteTime": {
     "end_time": "2024-08-06T21:04:15.177783Z",
     "start_time": "2024-08-06T21:04:15.121461Z"
    }
   },
   "cell_type": "code",
   "source": "labels.shape",
   "id": "3c7861842cf0831a",
   "outputs": [
    {
     "data": {
      "text/plain": [
       "torch.Size([1999996])"
      ]
     },
     "execution_count": 88,
     "metadata": {},
     "output_type": "execute_result"
    }
   ],
   "execution_count": 88
  },
  {
   "metadata": {
    "ExecuteTime": {
     "end_time": "2024-08-06T21:04:19.480136Z",
     "start_time": "2024-08-06T21:04:15.181697Z"
    }
   },
   "cell_type": "code",
   "source": [
    "# Train-test split\n",
    "features_train, features_val, refs_train, refs_val, labels_train, labels_val = train_test_split(features, refs, labels, test_size=0.05, random_state=42)\n",
    "\n",
    "# Create datasets and loaders\n",
    "train_dataset = TensorDataset(features_train, refs_train, labels_train)\n",
    "val_dataset = TensorDataset(features_val, refs_val, labels_val)\n",
    "\n",
    "train_loader = DataLoader(train_dataset, batch_size=256, shuffle=True)\n",
    "val_loader = DataLoader(val_dataset, batch_size=256, shuffle=False)"
   ],
   "id": "4a99567b80c3d163",
   "outputs": [],
   "execution_count": 89
  },
  {
   "metadata": {},
   "cell_type": "markdown",
   "source": "# Обучение",
   "id": "a86face0e35e1304"
  },
  {
   "metadata": {
    "ExecuteTime": {
     "end_time": "2024-08-07T00:09:22.767908Z",
     "start_time": "2024-08-07T00:09:20.555614Z"
    }
   },
   "cell_type": "code",
   "source": [
    "# Define the model\n",
    "n_features = 80\n",
    "model = TransformerBinaryClassifier(40, len(vocab))\n",
    "device = torch.device(\"cuda\" if torch.cuda.is_available() else \"cpu\")\n",
    "model.to(device)\n",
    "\n",
    "# Define loss function, optimizer, and scheduler\n",
    "criterion = nn.BCELoss()\n",
    "optimizer = optim.AdamW(model.parameters(), lr=0.001)\n",
    "scheduler = optim.lr_scheduler.StepLR(optimizer, step_size=5, gamma=0.1)\n",
    "\n",
    "# Train the model\n",
    "train_model(model, train_loader, val_loader, criterion, optimizer, scheduler, num_epochs=10)"
   ],
   "id": "8e5566dd1139895c",
   "outputs": [
    {
     "name": "stderr",
     "output_type": "stream",
     "text": [
      "/home/ramil/miniconda3/envs/ml/lib/python3.11/site-packages/torch/nn/modules/transformer.py:306: UserWarning: enable_nested_tensor is True, but self.use_nested_tensor is False because encoder_layer.self_attn.batch_first was not True(use batch_first for better inference performance)\n",
      "  warnings.warn(f\"enable_nested_tensor is True, but self.use_nested_tensor is False because {why_not_sparsity_fast_path}\")\n",
      "  0%|          | 0/14844 [00:00<?, ?batch/s]/tmp/ipykernel_4720/2210903518.py:44: UserWarning: To copy construct from a tensor, it is recommended to use sourceTensor.clone().detach() or sourceTensor.clone().detach().requires_grad_(True), rather than torch.tensor(sourceTensor).\n",
      "  tokenized_features = torch.tensor(features)\n",
      "  1%|          | 86/14844 [00:01<04:16, 57.62batch/s] \n"
     ]
    },
    {
     "ename": "KeyboardInterrupt",
     "evalue": "",
     "output_type": "error",
     "traceback": [
      "\u001B[0;31m---------------------------------------------------------------------------\u001B[0m",
      "\u001B[0;31mKeyboardInterrupt\u001B[0m                         Traceback (most recent call last)",
      "Cell \u001B[0;32mIn[100], line 13\u001B[0m\n\u001B[1;32m     10\u001B[0m scheduler \u001B[38;5;241m=\u001B[39m optim\u001B[38;5;241m.\u001B[39mlr_scheduler\u001B[38;5;241m.\u001B[39mStepLR(optimizer, step_size\u001B[38;5;241m=\u001B[39m\u001B[38;5;241m5\u001B[39m, gamma\u001B[38;5;241m=\u001B[39m\u001B[38;5;241m0.1\u001B[39m)\n\u001B[1;32m     12\u001B[0m \u001B[38;5;66;03m# Train the model\u001B[39;00m\n\u001B[0;32m---> 13\u001B[0m \u001B[43mtrain_model\u001B[49m\u001B[43m(\u001B[49m\u001B[43mmodel\u001B[49m\u001B[43m,\u001B[49m\u001B[43m \u001B[49m\u001B[43mtrain_loader\u001B[49m\u001B[43m,\u001B[49m\u001B[43m \u001B[49m\u001B[43mval_loader\u001B[49m\u001B[43m,\u001B[49m\u001B[43m \u001B[49m\u001B[43mcriterion\u001B[49m\u001B[43m,\u001B[49m\u001B[43m \u001B[49m\u001B[43moptimizer\u001B[49m\u001B[43m,\u001B[49m\u001B[43m \u001B[49m\u001B[43mscheduler\u001B[49m\u001B[43m,\u001B[49m\u001B[43m \u001B[49m\u001B[43mnum_epochs\u001B[49m\u001B[38;5;241;43m=\u001B[39;49m\u001B[38;5;241;43m10\u001B[39;49m\u001B[43m)\u001B[49m\n",
      "Cell \u001B[0;32mIn[61], line 12\u001B[0m, in \u001B[0;36mtrain_model\u001B[0;34m(model, train_loader, val_loader, criterion, optimizer, scheduler, num_epochs)\u001B[0m\n\u001B[1;32m      9\u001B[0m features, refs, labels \u001B[38;5;241m=\u001B[39m features\u001B[38;5;241m.\u001B[39mto(device), refs\u001B[38;5;241m.\u001B[39mto(device), labels\u001B[38;5;241m.\u001B[39mto(device)\n\u001B[1;32m     11\u001B[0m optimizer\u001B[38;5;241m.\u001B[39mzero_grad()\n\u001B[0;32m---> 12\u001B[0m outputs \u001B[38;5;241m=\u001B[39m \u001B[43mmodel\u001B[49m\u001B[43m(\u001B[49m\u001B[43mfeatures\u001B[49m\u001B[43m,\u001B[49m\u001B[43m \u001B[49m\u001B[43mrefs\u001B[49m\u001B[43m)\u001B[49m\n\u001B[1;32m     13\u001B[0m loss \u001B[38;5;241m=\u001B[39m criterion(outputs, labels\u001B[38;5;241m.\u001B[39mfloat()\u001B[38;5;241m.\u001B[39munsqueeze(\u001B[38;5;241m1\u001B[39m))\n\u001B[1;32m     14\u001B[0m loss\u001B[38;5;241m.\u001B[39mbackward()\n",
      "File \u001B[0;32m~/miniconda3/envs/ml/lib/python3.11/site-packages/torch/nn/modules/module.py:1532\u001B[0m, in \u001B[0;36mModule._wrapped_call_impl\u001B[0;34m(self, *args, **kwargs)\u001B[0m\n\u001B[1;32m   1530\u001B[0m     \u001B[38;5;28;01mreturn\u001B[39;00m \u001B[38;5;28mself\u001B[39m\u001B[38;5;241m.\u001B[39m_compiled_call_impl(\u001B[38;5;241m*\u001B[39margs, \u001B[38;5;241m*\u001B[39m\u001B[38;5;241m*\u001B[39mkwargs)  \u001B[38;5;66;03m# type: ignore[misc]\u001B[39;00m\n\u001B[1;32m   1531\u001B[0m \u001B[38;5;28;01melse\u001B[39;00m:\n\u001B[0;32m-> 1532\u001B[0m     \u001B[38;5;28;01mreturn\u001B[39;00m \u001B[38;5;28;43mself\u001B[39;49m\u001B[38;5;241;43m.\u001B[39;49m\u001B[43m_call_impl\u001B[49m\u001B[43m(\u001B[49m\u001B[38;5;241;43m*\u001B[39;49m\u001B[43margs\u001B[49m\u001B[43m,\u001B[49m\u001B[43m \u001B[49m\u001B[38;5;241;43m*\u001B[39;49m\u001B[38;5;241;43m*\u001B[39;49m\u001B[43mkwargs\u001B[49m\u001B[43m)\u001B[49m\n",
      "File \u001B[0;32m~/miniconda3/envs/ml/lib/python3.11/site-packages/torch/nn/modules/module.py:1541\u001B[0m, in \u001B[0;36mModule._call_impl\u001B[0;34m(self, *args, **kwargs)\u001B[0m\n\u001B[1;32m   1536\u001B[0m \u001B[38;5;66;03m# If we don't have any hooks, we want to skip the rest of the logic in\u001B[39;00m\n\u001B[1;32m   1537\u001B[0m \u001B[38;5;66;03m# this function, and just call forward.\u001B[39;00m\n\u001B[1;32m   1538\u001B[0m \u001B[38;5;28;01mif\u001B[39;00m \u001B[38;5;129;01mnot\u001B[39;00m (\u001B[38;5;28mself\u001B[39m\u001B[38;5;241m.\u001B[39m_backward_hooks \u001B[38;5;129;01mor\u001B[39;00m \u001B[38;5;28mself\u001B[39m\u001B[38;5;241m.\u001B[39m_backward_pre_hooks \u001B[38;5;129;01mor\u001B[39;00m \u001B[38;5;28mself\u001B[39m\u001B[38;5;241m.\u001B[39m_forward_hooks \u001B[38;5;129;01mor\u001B[39;00m \u001B[38;5;28mself\u001B[39m\u001B[38;5;241m.\u001B[39m_forward_pre_hooks\n\u001B[1;32m   1539\u001B[0m         \u001B[38;5;129;01mor\u001B[39;00m _global_backward_pre_hooks \u001B[38;5;129;01mor\u001B[39;00m _global_backward_hooks\n\u001B[1;32m   1540\u001B[0m         \u001B[38;5;129;01mor\u001B[39;00m _global_forward_hooks \u001B[38;5;129;01mor\u001B[39;00m _global_forward_pre_hooks):\n\u001B[0;32m-> 1541\u001B[0m     \u001B[38;5;28;01mreturn\u001B[39;00m \u001B[43mforward_call\u001B[49m\u001B[43m(\u001B[49m\u001B[38;5;241;43m*\u001B[39;49m\u001B[43margs\u001B[49m\u001B[43m,\u001B[49m\u001B[43m \u001B[49m\u001B[38;5;241;43m*\u001B[39;49m\u001B[38;5;241;43m*\u001B[39;49m\u001B[43mkwargs\u001B[49m\u001B[43m)\u001B[49m\n\u001B[1;32m   1543\u001B[0m \u001B[38;5;28;01mtry\u001B[39;00m:\n\u001B[1;32m   1544\u001B[0m     result \u001B[38;5;241m=\u001B[39m \u001B[38;5;28;01mNone\u001B[39;00m\n",
      "Cell \u001B[0;32mIn[99], line 62\u001B[0m, in \u001B[0;36mTransformerBinaryClassifier.forward\u001B[0;34m(self, features, vectors)\u001B[0m\n\u001B[1;32m     59\u001B[0m vec \u001B[38;5;241m=\u001B[39m \u001B[38;5;28mself\u001B[39m\u001B[38;5;241m.\u001B[39mmlp(vectors)\n\u001B[1;32m     61\u001B[0m \u001B[38;5;66;03m# Fully connected layer\u001B[39;00m\n\u001B[0;32m---> 62\u001B[0m logits \u001B[38;5;241m=\u001B[39m \u001B[38;5;28;43mself\u001B[39;49m\u001B[38;5;241;43m.\u001B[39;49m\u001B[43mfc\u001B[49m\u001B[43m(\u001B[49m\u001B[43mtorch\u001B[49m\u001B[38;5;241;43m.\u001B[39;49m\u001B[43mcat\u001B[49m\u001B[43m(\u001B[49m\u001B[43m(\u001B[49m\u001B[43mtransformer_out\u001B[49m\u001B[43m,\u001B[49m\u001B[43m \u001B[49m\u001B[43mvec\u001B[49m\u001B[43m)\u001B[49m\u001B[43m,\u001B[49m\u001B[43m \u001B[49m\u001B[43mdim\u001B[49m\u001B[38;5;241;43m=\u001B[39;49m\u001B[38;5;241;43m1\u001B[39;49m\u001B[43m)\u001B[49m\u001B[43m)\u001B[49m\n\u001B[1;32m     63\u001B[0m output \u001B[38;5;241m=\u001B[39m \u001B[38;5;28mself\u001B[39m\u001B[38;5;241m.\u001B[39msigmoid(logits)\n\u001B[1;32m     65\u001B[0m \u001B[38;5;28;01mreturn\u001B[39;00m output\n",
      "File \u001B[0;32m~/miniconda3/envs/ml/lib/python3.11/site-packages/torch/nn/modules/module.py:1532\u001B[0m, in \u001B[0;36mModule._wrapped_call_impl\u001B[0;34m(self, *args, **kwargs)\u001B[0m\n\u001B[1;32m   1530\u001B[0m     \u001B[38;5;28;01mreturn\u001B[39;00m \u001B[38;5;28mself\u001B[39m\u001B[38;5;241m.\u001B[39m_compiled_call_impl(\u001B[38;5;241m*\u001B[39margs, \u001B[38;5;241m*\u001B[39m\u001B[38;5;241m*\u001B[39mkwargs)  \u001B[38;5;66;03m# type: ignore[misc]\u001B[39;00m\n\u001B[1;32m   1531\u001B[0m \u001B[38;5;28;01melse\u001B[39;00m:\n\u001B[0;32m-> 1532\u001B[0m     \u001B[38;5;28;01mreturn\u001B[39;00m \u001B[38;5;28;43mself\u001B[39;49m\u001B[38;5;241;43m.\u001B[39;49m\u001B[43m_call_impl\u001B[49m\u001B[43m(\u001B[49m\u001B[38;5;241;43m*\u001B[39;49m\u001B[43margs\u001B[49m\u001B[43m,\u001B[49m\u001B[43m \u001B[49m\u001B[38;5;241;43m*\u001B[39;49m\u001B[38;5;241;43m*\u001B[39;49m\u001B[43mkwargs\u001B[49m\u001B[43m)\u001B[49m\n",
      "File \u001B[0;32m~/miniconda3/envs/ml/lib/python3.11/site-packages/torch/nn/modules/module.py:1541\u001B[0m, in \u001B[0;36mModule._call_impl\u001B[0;34m(self, *args, **kwargs)\u001B[0m\n\u001B[1;32m   1536\u001B[0m \u001B[38;5;66;03m# If we don't have any hooks, we want to skip the rest of the logic in\u001B[39;00m\n\u001B[1;32m   1537\u001B[0m \u001B[38;5;66;03m# this function, and just call forward.\u001B[39;00m\n\u001B[1;32m   1538\u001B[0m \u001B[38;5;28;01mif\u001B[39;00m \u001B[38;5;129;01mnot\u001B[39;00m (\u001B[38;5;28mself\u001B[39m\u001B[38;5;241m.\u001B[39m_backward_hooks \u001B[38;5;129;01mor\u001B[39;00m \u001B[38;5;28mself\u001B[39m\u001B[38;5;241m.\u001B[39m_backward_pre_hooks \u001B[38;5;129;01mor\u001B[39;00m \u001B[38;5;28mself\u001B[39m\u001B[38;5;241m.\u001B[39m_forward_hooks \u001B[38;5;129;01mor\u001B[39;00m \u001B[38;5;28mself\u001B[39m\u001B[38;5;241m.\u001B[39m_forward_pre_hooks\n\u001B[1;32m   1539\u001B[0m         \u001B[38;5;129;01mor\u001B[39;00m _global_backward_pre_hooks \u001B[38;5;129;01mor\u001B[39;00m _global_backward_hooks\n\u001B[1;32m   1540\u001B[0m         \u001B[38;5;129;01mor\u001B[39;00m _global_forward_hooks \u001B[38;5;129;01mor\u001B[39;00m _global_forward_pre_hooks):\n\u001B[0;32m-> 1541\u001B[0m     \u001B[38;5;28;01mreturn\u001B[39;00m \u001B[43mforward_call\u001B[49m\u001B[43m(\u001B[49m\u001B[38;5;241;43m*\u001B[39;49m\u001B[43margs\u001B[49m\u001B[43m,\u001B[49m\u001B[43m \u001B[49m\u001B[38;5;241;43m*\u001B[39;49m\u001B[38;5;241;43m*\u001B[39;49m\u001B[43mkwargs\u001B[49m\u001B[43m)\u001B[49m\n\u001B[1;32m   1543\u001B[0m \u001B[38;5;28;01mtry\u001B[39;00m:\n\u001B[1;32m   1544\u001B[0m     result \u001B[38;5;241m=\u001B[39m \u001B[38;5;28;01mNone\u001B[39;00m\n",
      "File \u001B[0;32m~/miniconda3/envs/ml/lib/python3.11/site-packages/torch/nn/modules/container.py:217\u001B[0m, in \u001B[0;36mSequential.forward\u001B[0;34m(self, input)\u001B[0m\n\u001B[1;32m    215\u001B[0m \u001B[38;5;28;01mdef\u001B[39;00m \u001B[38;5;21mforward\u001B[39m(\u001B[38;5;28mself\u001B[39m, \u001B[38;5;28minput\u001B[39m):\n\u001B[1;32m    216\u001B[0m     \u001B[38;5;28;01mfor\u001B[39;00m module \u001B[38;5;129;01min\u001B[39;00m \u001B[38;5;28mself\u001B[39m:\n\u001B[0;32m--> 217\u001B[0m         \u001B[38;5;28minput\u001B[39m \u001B[38;5;241m=\u001B[39m \u001B[43mmodule\u001B[49m\u001B[43m(\u001B[49m\u001B[38;5;28;43minput\u001B[39;49m\u001B[43m)\u001B[49m\n\u001B[1;32m    218\u001B[0m     \u001B[38;5;28;01mreturn\u001B[39;00m \u001B[38;5;28minput\u001B[39m\n",
      "File \u001B[0;32m~/miniconda3/envs/ml/lib/python3.11/site-packages/torch/nn/modules/module.py:1532\u001B[0m, in \u001B[0;36mModule._wrapped_call_impl\u001B[0;34m(self, *args, **kwargs)\u001B[0m\n\u001B[1;32m   1530\u001B[0m     \u001B[38;5;28;01mreturn\u001B[39;00m \u001B[38;5;28mself\u001B[39m\u001B[38;5;241m.\u001B[39m_compiled_call_impl(\u001B[38;5;241m*\u001B[39margs, \u001B[38;5;241m*\u001B[39m\u001B[38;5;241m*\u001B[39mkwargs)  \u001B[38;5;66;03m# type: ignore[misc]\u001B[39;00m\n\u001B[1;32m   1531\u001B[0m \u001B[38;5;28;01melse\u001B[39;00m:\n\u001B[0;32m-> 1532\u001B[0m     \u001B[38;5;28;01mreturn\u001B[39;00m \u001B[38;5;28;43mself\u001B[39;49m\u001B[38;5;241;43m.\u001B[39;49m\u001B[43m_call_impl\u001B[49m\u001B[43m(\u001B[49m\u001B[38;5;241;43m*\u001B[39;49m\u001B[43margs\u001B[49m\u001B[43m,\u001B[49m\u001B[43m \u001B[49m\u001B[38;5;241;43m*\u001B[39;49m\u001B[38;5;241;43m*\u001B[39;49m\u001B[43mkwargs\u001B[49m\u001B[43m)\u001B[49m\n",
      "File \u001B[0;32m~/miniconda3/envs/ml/lib/python3.11/site-packages/torch/nn/modules/module.py:1541\u001B[0m, in \u001B[0;36mModule._call_impl\u001B[0;34m(self, *args, **kwargs)\u001B[0m\n\u001B[1;32m   1536\u001B[0m \u001B[38;5;66;03m# If we don't have any hooks, we want to skip the rest of the logic in\u001B[39;00m\n\u001B[1;32m   1537\u001B[0m \u001B[38;5;66;03m# this function, and just call forward.\u001B[39;00m\n\u001B[1;32m   1538\u001B[0m \u001B[38;5;28;01mif\u001B[39;00m \u001B[38;5;129;01mnot\u001B[39;00m (\u001B[38;5;28mself\u001B[39m\u001B[38;5;241m.\u001B[39m_backward_hooks \u001B[38;5;129;01mor\u001B[39;00m \u001B[38;5;28mself\u001B[39m\u001B[38;5;241m.\u001B[39m_backward_pre_hooks \u001B[38;5;129;01mor\u001B[39;00m \u001B[38;5;28mself\u001B[39m\u001B[38;5;241m.\u001B[39m_forward_hooks \u001B[38;5;129;01mor\u001B[39;00m \u001B[38;5;28mself\u001B[39m\u001B[38;5;241m.\u001B[39m_forward_pre_hooks\n\u001B[1;32m   1539\u001B[0m         \u001B[38;5;129;01mor\u001B[39;00m _global_backward_pre_hooks \u001B[38;5;129;01mor\u001B[39;00m _global_backward_hooks\n\u001B[1;32m   1540\u001B[0m         \u001B[38;5;129;01mor\u001B[39;00m _global_forward_hooks \u001B[38;5;129;01mor\u001B[39;00m _global_forward_pre_hooks):\n\u001B[0;32m-> 1541\u001B[0m     \u001B[38;5;28;01mreturn\u001B[39;00m \u001B[43mforward_call\u001B[49m\u001B[43m(\u001B[49m\u001B[38;5;241;43m*\u001B[39;49m\u001B[43margs\u001B[49m\u001B[43m,\u001B[49m\u001B[43m \u001B[49m\u001B[38;5;241;43m*\u001B[39;49m\u001B[38;5;241;43m*\u001B[39;49m\u001B[43mkwargs\u001B[49m\u001B[43m)\u001B[49m\n\u001B[1;32m   1543\u001B[0m \u001B[38;5;28;01mtry\u001B[39;00m:\n\u001B[1;32m   1544\u001B[0m     result \u001B[38;5;241m=\u001B[39m \u001B[38;5;28;01mNone\u001B[39;00m\n",
      "File \u001B[0;32m~/miniconda3/envs/ml/lib/python3.11/site-packages/torch/nn/modules/batchnorm.py:175\u001B[0m, in \u001B[0;36m_BatchNorm.forward\u001B[0;34m(self, input)\u001B[0m\n\u001B[1;32m    168\u001B[0m     bn_training \u001B[38;5;241m=\u001B[39m (\u001B[38;5;28mself\u001B[39m\u001B[38;5;241m.\u001B[39mrunning_mean \u001B[38;5;129;01mis\u001B[39;00m \u001B[38;5;28;01mNone\u001B[39;00m) \u001B[38;5;129;01mand\u001B[39;00m (\u001B[38;5;28mself\u001B[39m\u001B[38;5;241m.\u001B[39mrunning_var \u001B[38;5;129;01mis\u001B[39;00m \u001B[38;5;28;01mNone\u001B[39;00m)\n\u001B[1;32m    170\u001B[0m \u001B[38;5;250m\u001B[39m\u001B[38;5;124mr\u001B[39m\u001B[38;5;124;03m\"\"\"\u001B[39;00m\n\u001B[1;32m    171\u001B[0m \u001B[38;5;124;03mBuffers are only updated if they are to be tracked and we are in training mode. Thus they only need to be\u001B[39;00m\n\u001B[1;32m    172\u001B[0m \u001B[38;5;124;03mpassed when the update should occur (i.e. in training mode when they are tracked), or when buffer stats are\u001B[39;00m\n\u001B[1;32m    173\u001B[0m \u001B[38;5;124;03mused for normalization (i.e. in eval mode when buffers are not None).\u001B[39;00m\n\u001B[1;32m    174\u001B[0m \u001B[38;5;124;03m\"\"\"\u001B[39;00m\n\u001B[0;32m--> 175\u001B[0m \u001B[38;5;28;01mreturn\u001B[39;00m \u001B[43mF\u001B[49m\u001B[38;5;241;43m.\u001B[39;49m\u001B[43mbatch_norm\u001B[49m\u001B[43m(\u001B[49m\n\u001B[1;32m    176\u001B[0m \u001B[43m    \u001B[49m\u001B[38;5;28;43minput\u001B[39;49m\u001B[43m,\u001B[49m\n\u001B[1;32m    177\u001B[0m \u001B[43m    \u001B[49m\u001B[38;5;66;43;03m# If buffers are not to be tracked, ensure that they won't be updated\u001B[39;49;00m\n\u001B[1;32m    178\u001B[0m \u001B[43m    \u001B[49m\u001B[38;5;28;43mself\u001B[39;49m\u001B[38;5;241;43m.\u001B[39;49m\u001B[43mrunning_mean\u001B[49m\n\u001B[1;32m    179\u001B[0m \u001B[43m    \u001B[49m\u001B[38;5;28;43;01mif\u001B[39;49;00m\u001B[43m \u001B[49m\u001B[38;5;129;43;01mnot\u001B[39;49;00m\u001B[43m \u001B[49m\u001B[38;5;28;43mself\u001B[39;49m\u001B[38;5;241;43m.\u001B[39;49m\u001B[43mtraining\u001B[49m\u001B[43m \u001B[49m\u001B[38;5;129;43;01mor\u001B[39;49;00m\u001B[43m \u001B[49m\u001B[38;5;28;43mself\u001B[39;49m\u001B[38;5;241;43m.\u001B[39;49m\u001B[43mtrack_running_stats\u001B[49m\n\u001B[1;32m    180\u001B[0m \u001B[43m    \u001B[49m\u001B[38;5;28;43;01melse\u001B[39;49;00m\u001B[43m \u001B[49m\u001B[38;5;28;43;01mNone\u001B[39;49;00m\u001B[43m,\u001B[49m\n\u001B[1;32m    181\u001B[0m \u001B[43m    \u001B[49m\u001B[38;5;28;43mself\u001B[39;49m\u001B[38;5;241;43m.\u001B[39;49m\u001B[43mrunning_var\u001B[49m\u001B[43m \u001B[49m\u001B[38;5;28;43;01mif\u001B[39;49;00m\u001B[43m \u001B[49m\u001B[38;5;129;43;01mnot\u001B[39;49;00m\u001B[43m \u001B[49m\u001B[38;5;28;43mself\u001B[39;49m\u001B[38;5;241;43m.\u001B[39;49m\u001B[43mtraining\u001B[49m\u001B[43m \u001B[49m\u001B[38;5;129;43;01mor\u001B[39;49;00m\u001B[43m \u001B[49m\u001B[38;5;28;43mself\u001B[39;49m\u001B[38;5;241;43m.\u001B[39;49m\u001B[43mtrack_running_stats\u001B[49m\u001B[43m \u001B[49m\u001B[38;5;28;43;01melse\u001B[39;49;00m\u001B[43m \u001B[49m\u001B[38;5;28;43;01mNone\u001B[39;49;00m\u001B[43m,\u001B[49m\n\u001B[1;32m    182\u001B[0m \u001B[43m    \u001B[49m\u001B[38;5;28;43mself\u001B[39;49m\u001B[38;5;241;43m.\u001B[39;49m\u001B[43mweight\u001B[49m\u001B[43m,\u001B[49m\n\u001B[1;32m    183\u001B[0m \u001B[43m    \u001B[49m\u001B[38;5;28;43mself\u001B[39;49m\u001B[38;5;241;43m.\u001B[39;49m\u001B[43mbias\u001B[49m\u001B[43m,\u001B[49m\n\u001B[1;32m    184\u001B[0m \u001B[43m    \u001B[49m\u001B[43mbn_training\u001B[49m\u001B[43m,\u001B[49m\n\u001B[1;32m    185\u001B[0m \u001B[43m    \u001B[49m\u001B[43mexponential_average_factor\u001B[49m\u001B[43m,\u001B[49m\n\u001B[1;32m    186\u001B[0m \u001B[43m    \u001B[49m\u001B[38;5;28;43mself\u001B[39;49m\u001B[38;5;241;43m.\u001B[39;49m\u001B[43meps\u001B[49m\u001B[43m,\u001B[49m\n\u001B[1;32m    187\u001B[0m \u001B[43m\u001B[49m\u001B[43m)\u001B[49m\n",
      "File \u001B[0;32m~/miniconda3/envs/ml/lib/python3.11/site-packages/torch/nn/functional.py:2509\u001B[0m, in \u001B[0;36mbatch_norm\u001B[0;34m(input, running_mean, running_var, weight, bias, training, momentum, eps)\u001B[0m\n\u001B[1;32m   2506\u001B[0m \u001B[38;5;28;01mif\u001B[39;00m training:\n\u001B[1;32m   2507\u001B[0m     _verify_batch_size(\u001B[38;5;28minput\u001B[39m\u001B[38;5;241m.\u001B[39msize())\n\u001B[0;32m-> 2509\u001B[0m \u001B[38;5;28;01mreturn\u001B[39;00m \u001B[43mtorch\u001B[49m\u001B[38;5;241;43m.\u001B[39;49m\u001B[43mbatch_norm\u001B[49m\u001B[43m(\u001B[49m\n\u001B[1;32m   2510\u001B[0m \u001B[43m    \u001B[49m\u001B[38;5;28;43minput\u001B[39;49m\u001B[43m,\u001B[49m\u001B[43m \u001B[49m\u001B[43mweight\u001B[49m\u001B[43m,\u001B[49m\u001B[43m \u001B[49m\u001B[43mbias\u001B[49m\u001B[43m,\u001B[49m\u001B[43m \u001B[49m\u001B[43mrunning_mean\u001B[49m\u001B[43m,\u001B[49m\u001B[43m \u001B[49m\u001B[43mrunning_var\u001B[49m\u001B[43m,\u001B[49m\u001B[43m \u001B[49m\u001B[43mtraining\u001B[49m\u001B[43m,\u001B[49m\u001B[43m \u001B[49m\u001B[43mmomentum\u001B[49m\u001B[43m,\u001B[49m\u001B[43m \u001B[49m\u001B[43meps\u001B[49m\u001B[43m,\u001B[49m\u001B[43m \u001B[49m\u001B[43mtorch\u001B[49m\u001B[38;5;241;43m.\u001B[39;49m\u001B[43mbackends\u001B[49m\u001B[38;5;241;43m.\u001B[39;49m\u001B[43mcudnn\u001B[49m\u001B[38;5;241;43m.\u001B[39;49m\u001B[43menabled\u001B[49m\n\u001B[1;32m   2511\u001B[0m \u001B[43m\u001B[49m\u001B[43m)\u001B[49m\n",
      "\u001B[0;31mKeyboardInterrupt\u001B[0m: "
     ]
    }
   ],
   "execution_count": 100
  },
  {
   "metadata": {},
   "cell_type": "code",
   "outputs": [],
   "execution_count": null,
   "source": "",
   "id": "69cf82095cf1b96a"
  }
 ],
 "metadata": {
  "kernelspec": {
   "display_name": "Python 3",
   "language": "python",
   "name": "python3"
  },
  "language_info": {
   "codemirror_mode": {
    "name": "ipython",
    "version": 2
   },
   "file_extension": ".py",
   "mimetype": "text/x-python",
   "name": "python",
   "nbconvert_exporter": "python",
   "pygments_lexer": "ipython2",
   "version": "2.7.6"
  }
 },
 "nbformat": 4,
 "nbformat_minor": 5
}
